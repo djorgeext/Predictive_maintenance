{
 "cells": [
  {
   "cell_type": "code",
   "execution_count": 6,
   "id": "76cce863",
   "metadata": {},
   "outputs": [],
   "source": [
    "import requests\n",
    "import zipfile\n",
    "import io\n",
    "import os\n",
    "import pandas as pd\n",
    "import sqlite3"
   ]
  },
  {
   "cell_type": "code",
   "execution_count": 11,
   "id": "8b422f3c",
   "metadata": {},
   "outputs": [
    {
     "name": "stdout",
     "output_type": "stream",
     "text": [
      "Downloaded and extracted data to 'data/raw'\n"
     ]
    }
   ],
   "source": [
    "url = \"https://archive.ics.uci.edu/static/public/601/ai4i+2020+predictive+maintenance+dataset.zip\"\n",
    "response = requests.get(url)\n",
    "response.raise_for_status()  # Raise an exception for HTTP errors\n",
    "\n",
    "zip_file = zipfile.ZipFile(io.BytesIO(response.content))\n",
    "\n",
    "# Extract the contents to a directory (e.g., 'data')\n",
    "extract_dir = 'data/raw'\n",
    "if not os.path.exists(extract_dir):\n",
    "    os.makedirs(extract_dir)\n",
    "\n",
    "zip_file.extractall(extract_dir)\n",
    "\n",
    "print(f\"Downloaded and extracted data to '{extract_dir}'\")\n",
    "\n",
    "# Assuming the CSV file is named 'ai4i2020.csv'\n",
    "csv_file_path = os.path.join(extract_dir, 'ai4i2020.csv')\n",
    "\n",
    "# Read the CSV file into a Pandas DataFrame\n",
    "preprocessed_data = pd.read_csv(csv_file_path)\n",
    "\n",
    "# Prepare data: drop Product ID and remap Type values\n",
    "db_df = preprocessed_data.drop(columns=['Product ID']).copy()\n",
    "type_map = {'L': '00', 'M': '01', 'H': '11'}\n",
    "db_df['Type'] = db_df['Type'].map(type_map)\n",
    "# Normalize values of 'Air temperature [K]', 'Process temperature [K]', \n",
    "min_air_temp, max_air_temp = 300 - 3*2, 300 + 3*2\n",
    "min_process_temp, max_process_temp = min_air_temp + (10 - 3*1), max_air_temp + (10 + 3*1)\n",
    "db_df['Air temperature [K]'] = (db_df['Air temperature [K]'] - min_air_temp) / (max_air_temp - min_air_temp)\n",
    "db_df['Process temperature [K]'] = (db_df['Process temperature [K]'] - min_process_temp) / (max_process_temp - min_process_temp)\n",
    "# Normalize values of 'Rotational speed [rpm]', 'Torque [Nm]', 'Tool wear [min]'\n",
    "db_df['Rotational speed [rpm]'] = (db_df['Rotational speed [rpm]'] - db_df['Rotational speed [rpm]'].min()) / (db_df['Rotational speed [rpm]'].max() - db_df['Rotational speed [rpm]'].min())\n",
    "db_df['Torque [Nm]'] = (db_df['Torque [Nm]'] - db_df['Torque [Nm]'].min()) / (db_df['Torque [Nm]'].max() - db_df['Torque [Nm]'].min())\n",
    "db_df['Tool wear [min]'] = (db_df['Tool wear [min]'] - db_df['Tool wear [min]'].min()) / (db_df['Tool wear [min]'].max() - db_df['Tool wear [min]'].min())\n",
    "\n",
    "\n",
    "\n",
    "# Create a SQLite database and write the table\n",
    "conn = sqlite3.connect('ai4i2020.db')\n",
    "db_df.to_sql('machine_data', conn, if_exists='replace', index=False)\n",
    "conn.close()\n"
   ]
  },
  {
   "cell_type": "code",
   "execution_count": 9,
   "id": "70cf6c90",
   "metadata": {},
   "outputs": [
    {
     "data": {
      "text/plain": [
       "(np.float64(1.483660030600002),\n",
       " np.float64(310.00556),\n",
       " np.float64(305.7),\n",
       " np.float64(313.8))"
      ]
     },
     "execution_count": 9,
     "metadata": {},
     "output_type": "execute_result"
    }
   ],
   "source": [
    "preprocessed_data['Process temperature [K]'].values.std(), preprocessed_data['Process temperature [K]'].values.mean(), preprocessed_data['Process temperature [K]'].values.min(), preprocessed_data['Process temperature [K]'].values.max()"
   ]
  }
 ],
 "metadata": {
  "kernelspec": {
   "display_name": ".venv",
   "language": "python",
   "name": "python3"
  },
  "language_info": {
   "codemirror_mode": {
    "name": "ipython",
    "version": 3
   },
   "file_extension": ".py",
   "mimetype": "text/x-python",
   "name": "python",
   "nbconvert_exporter": "python",
   "pygments_lexer": "ipython3",
   "version": "3.12.3"
  }
 },
 "nbformat": 4,
 "nbformat_minor": 5
}
