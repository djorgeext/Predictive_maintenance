{
 "cells": [
  {
   "cell_type": "code",
   "execution_count": 4,
   "id": "76cce863",
   "metadata": {},
   "outputs": [],
   "source": [
    "import requests\n",
    "import zipfile\n",
    "import io\n",
    "import os\n",
    "import pandas as pd\n",
    "import sqlite3"
   ]
  },
  {
   "cell_type": "code",
   "execution_count": null,
   "id": "8b422f3c",
   "metadata": {},
   "outputs": [
    {
     "name": "stdout",
     "output_type": "stream",
     "text": [
      "Downloaded and extracted data to 'data/raw'\n",
      "Columns in the database: ['UDI', 'Type', 'Air temperature [K]', 'Process temperature [K]', 'Rotational speed [rpm]', 'Torque [Nm]', 'Tool wear [min]', 'Machine failure', 'TWF', 'HDF', 'PWF', 'OSF', 'RNF']\n"
     ]
    }
   ],
   "source": [
    "url = \"https://archive.ics.uci.edu/static/public/601/ai4i+2020+predictive+maintenance+dataset.zip\"\n",
    "response = requests.get(url)\n",
    "response.raise_for_status()  # Raise an exception for HTTP errors\n",
    "\n",
    "zip_file = zipfile.ZipFile(io.BytesIO(response.content))\n",
    "\n",
    "# Extract the contents to a directory (e.g., 'data')\n",
    "extract_dir = 'data/raw'\n",
    "if not os.path.exists(extract_dir):\n",
    "    os.makedirs(extract_dir)\n",
    "\n",
    "zip_file.extractall(extract_dir)\n",
    "\n",
    "print(f\"Downloaded and extracted data to '{extract_dir}'\")\n",
    "\n",
    "# Assuming the CSV file is named 'ai4i2020.csv'\n",
    "csv_file_path = os.path.join(extract_dir, 'ai4i2020.csv')\n",
    "\n",
    "# Read the CSV file into a Pandas DataFrame\n",
    "preprocessed_data = pd.read_csv(csv_file_path)\n",
    "\n",
    "# Prepare data: drop Product ID and remap Type values\n",
    "db_df = preprocessed_data.drop(columns=['Product ID']).copy()\n",
    "type_map = {'L': '00', 'M': '01', 'H': '11'}\n",
    "db_df['Type'] = db_df['Type'].map(type_map)\n",
    "# Normalize values of 'Air temperature [K]', 'Process temperature [K]', \n",
    "min_temp = db_df['Air temperature [K]'].min()\n",
    "max_temp = db_df['Air temperature [K]'].max()\n",
    "db_df['Air temperature [K]'] = (db_df['Air temperature [K]'] - min_temp) / (max_temp - min_temp)\n",
    "\n",
    "# Create a SQLite database and write the table\n",
    "conn = sqlite3.connect('ai4i2020.db')\n",
    "db_df.to_sql('machine_data', conn, if_exists='replace', index=False)\n",
    "conn.close()\n"
   ]
  }
 ],
 "metadata": {
  "kernelspec": {
   "display_name": ".venv",
   "language": "python",
   "name": "python3"
  },
  "language_info": {
   "codemirror_mode": {
    "name": "ipython",
    "version": 3
   },
   "file_extension": ".py",
   "mimetype": "text/x-python",
   "name": "python",
   "nbconvert_exporter": "python",
   "pygments_lexer": "ipython3",
   "version": "3.12.3"
  }
 },
 "nbformat": 4,
 "nbformat_minor": 5
}
